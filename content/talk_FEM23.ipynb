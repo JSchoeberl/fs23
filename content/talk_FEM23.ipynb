{
 "cells": [
  {
   "cell_type": "markdown",
   "id": "69bc83f8",
   "metadata": {},
   "source": [
    "# Finite Element Methods for Curvature Computation\n",
    "\n",
    "**Joachim Schöberl** <br>\n",
    "TU Wien\n",
    "\n",
    "<img src=\"pictures/TU_Wien.png\" width=\"100\">\n",
    "\n",
    "joint work with \n",
    "\n",
    "**Jay Gopalakrishnan**, Portland State University<br>\n",
    "**Michael Neunteufel**, **Edoardo Bonetti** TU Wien<br>\n",
    "**Matthias Hochsteger**, **Christopher Lackner**, CERBSim GmbH\n",
    "\n",
    "### **Chemnitzer FEM-Symposium'23**, Schloss Seggau, Austria\n",
    "\n",
    "\n",
    "This presentation uses the open-source finite element library NGSolve (www.ngsolve.org) within Jupyter Notebooks.\n",
    "\n",
    "\n",
    "<img src=\"pictures/NGSlogo.png\" width=\"100\">"
   ]
  },
  {
   "cell_type": "markdown",
   "id": "3a2dfb5e",
   "metadata": {},
   "source": [
    "If you like to try out this talk in your browser:\n",
    "\n",
    "**ngsolve.org/ngslite**\n",
    "\n",
    "Open file **talk_FEM23.ipynb**"
   ]
  },
  {
   "cell_type": "markdown",
   "id": "32bc2344-4e7f-4857-9b05-14f2df4cc18d",
   "metadata": {},
   "source": [
    "* [The Hellan Herrmann Johnson method](FEM23nb/1_hhj.ipynb)\n",
    "* [Reissner Mindlin Plate](FEM23nb/2_ReissnerMindlin.ipynb)\n",
    "* [Mildly Nonlinear Naghdi shells](FEM23nb/3_shell.ipynb)\n",
    "* [Fully Nonlinear Koiter shells](FEM23nb/4_rollup.ipynb)\n",
    "* [Intrinsic curvature on embedded manifold](FEM23nb/5a_ManifoldCurv.ipynb)\n",
    "* [Intrinsic curvature from metric tensor](FEM23nb/5b_ManifoldCurv.ipynb)\n",
    "* [Einstein-Bianchi equations](FEM23nb/EB-equations3.ipynb)"
   ]
  }
 ],
 "metadata": {
  "kernelspec": {
   "display_name": "Python 3 (ipykernel)",
   "language": "python",
   "name": "python3"
  },
  "language_info": {
   "codemirror_mode": {
    "name": "ipython",
    "version": 3
   },
   "file_extension": ".py",
   "mimetype": "text/x-python",
   "name": "python",
   "nbconvert_exporter": "python",
   "pygments_lexer": "ipython3",
   "version": "3.11.5"
  }
 },
 "nbformat": 4,
 "nbformat_minor": 5
}
