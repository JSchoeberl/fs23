{
 "cells": [
  {
   "cell_type": "markdown",
   "id": "30f4ec89",
   "metadata": {},
   "source": [
    "# Computation of Curvature\n",
    "\n",
    "work with **Michael Neunteufel**, Max Wardetzky and Jay Gopalakrishnan\n",
    "\n",
    "* Given metric tensor $g \\in H(cc)$, compute Riemannian curvature $R(g)$\n",
    "* Compute curvature of a triangulated manifold"
   ]
  },
  {
   "cell_type": "code",
   "execution_count": null,
   "id": "8e12871f",
   "metadata": {},
   "outputs": [],
   "source": [
    "from netgen.occ import *\n",
    "from netgen import meshing\n",
    "from ngsolve import *\n",
    "from ngsolve.webgui import Draw\n",
    "\n",
    "MESHSURF = meshing.MeshingStep.MESHSURFACE"
   ]
  },
  {
   "cell_type": "markdown",
   "id": "cc6e5fe1",
   "metadata": {},
   "source": [
    "## Curvature on smooth manifolds"
   ]
  },
  {
   "cell_type": "code",
   "execution_count": null,
   "id": "dc4032a7",
   "metadata": {},
   "outputs": [],
   "source": [
    "sp = Sphere(Pnt(0,0,0), r=1)\n",
    "spmesh = Mesh(OCCGeometry(sp).GenerateMesh(maxh=0.2,perfstepsend=MESHSURF))\n",
    "spmesh.Curve(3);"
   ]
  },
  {
   "cell_type": "markdown",
   "id": "feb73894",
   "metadata": {},
   "source": [
    "Weingarten tensor (a symmetric matrix):\n",
    "$$\n",
    "W = \\nabla_t n\n",
    "$$\n",
    "\n",
    "Scalar curvature (Gauss curvature) is product of non-zero eigenvalues of $W$."
   ]
  },
  {
   "cell_type": "code",
   "execution_count": null,
   "id": "1b1da7bb",
   "metadata": {},
   "outputs": [],
   "source": [
    "nsurf = specialcf.normal(3)\n",
    "GaussCurv = Cof(Grad(nsurf))*nsurf*nsurf"
   ]
  },
  {
   "cell_type": "code",
   "execution_count": null,
   "id": "d3d060b0",
   "metadata": {},
   "outputs": [],
   "source": [
    "Draw (GaussCurv, spmesh, min=0.9, max=1.1);"
   ]
  },
  {
   "cell_type": "markdown",
   "id": "1c913f7d",
   "metadata": {},
   "source": [
    "By Gauss-Bonnet theorem: $\\int_S \\kappa = 4 \\pi$ "
   ]
  },
  {
   "cell_type": "code",
   "execution_count": null,
   "id": "c10b7650",
   "metadata": {},
   "outputs": [],
   "source": [
    "print (\"integrated curvature:\",\n",
    "       Integrate (GaussCurv, spmesh.Boundaries(\".*\")) / (4*pi))"
   ]
  },
  {
   "cell_type": "markdown",
   "id": "578d6a13",
   "metadata": {},
   "source": [
    "## A cylinder has only flat faces:"
   ]
  },
  {
   "cell_type": "code",
   "execution_count": null,
   "id": "37fe18ca",
   "metadata": {},
   "outputs": [],
   "source": [
    "cyl = Cylinder( (0,0,0), Z, r=1, h = 2)\n",
    "cylmesh = Mesh(OCCGeometry(cyl).GenerateMesh(maxh=0.2,perfstepsend=MESHSURF)).Curve(5)\n",
    "Draw (GaussCurv, cylmesh, min=-0.0001, max=0.0001);"
   ]
  },
  {
   "cell_type": "code",
   "execution_count": null,
   "id": "51418077",
   "metadata": {
    "scrolled": true
   },
   "outputs": [],
   "source": [
    "cyl = Cylinder( (0,0,0), Z, r=1, h = 2)\n",
    "cylf = cyl.MakeFillet(cyl.edges, 0.1)\n",
    "cylfmesh = Mesh(OCCGeometry(cylf).GenerateMesh(maxh=0.2,perfstepsend=MESHSURF)).Curve(7)\n",
    "Draw (GaussCurv, cylfmesh);"
   ]
  },
  {
   "cell_type": "code",
   "execution_count": null,
   "id": "72e21a7e",
   "metadata": {},
   "outputs": [],
   "source": [
    "Integrate (GaussCurv, cylfmesh.Boundaries(\".*\"), order=10) / (4*pi)"
   ]
  },
  {
   "cell_type": "markdown",
   "id": "a059b7c9",
   "metadata": {},
   "source": [
    "# Edge term: jump of geodesic curvature"
   ]
  },
  {
   "cell_type": "markdown",
   "id": "635ba96a",
   "metadata": {},
   "source": [
    "$$\n",
    "\\kappa_g = \\nu \\cdot \\nabla_t t\n",
    "$$\n",
    "with co-normal vector $\\nu = n_F \\times t_E$"
   ]
  },
  {
   "cell_type": "code",
   "execution_count": null,
   "id": "0bf5918b",
   "metadata": {},
   "outputs": [],
   "source": [
    "nu = Cross(specialcf.normal(3), specialcf.tangential(3)) \n",
    "edgecurve = specialcf.EdgeCurvature(3)  # nabla_t t\n",
    "GeodesicCurv = nu*edgecurve"
   ]
  },
  {
   "cell_type": "code",
   "execution_count": null,
   "id": "7a20a042",
   "metadata": {},
   "outputs": [],
   "source": [
    "fes = SurfaceL2(cylmesh, order=5)\n",
    "u,v = fes.TnT()\n",
    "f = LinearForm(fes)\n",
    "f += GaussCurv*v*ds(bonus_intorder=8)\n",
    "f += -GeodesicCurv*v*ds(element_boundary=True, bonus_intorder=8)\n",
    "f.Assemble()\n",
    "gfu = GridFunction(fes)\n",
    "mass = BilinearForm(u*v*ds).Assemble().mat\n",
    "gfu.vec.data = mass.Inverse()*f.vec\n",
    "print (\"integrated curv =\", Integrate(gfu, cylmesh.Boundaries(\".*\"))/(4*pi))\n",
    "Draw(gfu);"
   ]
  },
  {
   "cell_type": "markdown",
   "id": "430c297c",
   "metadata": {},
   "source": [
    "# Vertex term: angle deficit"
   ]
  },
  {
   "cell_type": "code",
   "execution_count": null,
   "id": "6bec1f96",
   "metadata": {},
   "outputs": [],
   "source": [
    "cube = Box( (0,0,0), (1,1,1) )\n",
    "cubef = cube.MakeFillet(cube.edges, 0.1)\n",
    "cubefmesh = Mesh(OCCGeometry(cubef).GenerateMesh(maxh=0.2,perfstepsend=meshing.MeshingStep.MESHSURFACE)).Curve(7)\n",
    "print (\"integrated curv =\", Integrate(GaussCurv, cubefmesh.Boundaries(\".*\")) / (4*pi))\n",
    "Draw (GaussCurv, cubefmesh);"
   ]
  },
  {
   "cell_type": "code",
   "execution_count": null,
   "id": "a7101236",
   "metadata": {},
   "outputs": [],
   "source": [
    "cube = Box( (0,0,0), (1,1,1) )\n",
    "cubemesh = Mesh(OCCGeometry(cube).GenerateMesh(maxh=0.2,perfstepsend=meshing.MeshingStep.MESHSURFACE)).Curve(7)\n",
    "\n",
    "fes = H1(cubemesh, order=5)\n",
    "u,v = fes.TnT()\n",
    "\n",
    "f = LinearForm(fes)\n",
    "bbndtang  = specialcf.VertexTangentialVectors(3)\n",
    "bbndtang1 = bbndtang[:,0] \n",
    "bbndtang2 = bbndtang[:,1] \n",
    "f += -v*acos(bbndtang1*bbndtang2)*ds(element_vb=BBND)\n",
    "\n",
    "f.Assemble()\n",
    "for i in range(f.space.mesh.nv):\n",
    "    f.vec[i] += 2*pi\n",
    "\n",
    "gfu = GridFunction(fes)\n",
    "mass = BilinearForm(u*v*ds).Assemble().mat\n",
    "gfu.vec.data = mass.Inverse()*f.vec\n",
    "print (\"integrated curv =\", Integrate(gfu, cubemesh.Boundaries(\".*\"))/(4*pi))\n",
    "Draw(gfu);"
   ]
  },
  {
   "cell_type": "markdown",
   "id": "3dd185bd",
   "metadata": {},
   "source": [
    "# All contributions together"
   ]
  },
  {
   "cell_type": "code",
   "execution_count": null,
   "id": "120977c1",
   "metadata": {},
   "outputs": [],
   "source": [
    "sp = Sphere(Pnt(0,0,0), 1)\n",
    "spmesh = Mesh(OCCGeometry(sp).GenerateMesh(maxh=0.3,perfstepsend=MESHSURF))\n",
    "spmesh.Curve(2)\n",
    "Draw (spmesh);"
   ]
  },
  {
   "cell_type": "code",
   "execution_count": null,
   "id": "a94e75c2",
   "metadata": {},
   "outputs": [],
   "source": [
    "fes = H1(spmesh, order=2)\n",
    "u,v = fes.TnT()\n",
    "f = LinearForm(fes)\n",
    "f += GaussCurv*v*ds(bonus_intorder=12)\n",
    "f += -GeodesicCurv*v*ds(element_boundary=True, bonus_intorder=12)\n",
    "f += -v*acos(bbndtang1*bbndtang2)*ds(element_vb=BBND)\n",
    "\n",
    "f.Assemble()\n",
    "for i in range(f.space.mesh.nv):\n",
    "    f.vec[i] += 2*pi\n",
    "\n",
    "gfu = GridFunction(fes)\n",
    "mass = BilinearForm(u*v*ds(bonus_intorder=6)).Assemble().mat\n",
    "gfu.vec.data = mass.Inverse()*f.vec\n",
    "print (\"integrated curv =\", Integrate(gfu, spmesh.Boundaries(\".*\"), order=15)/(4*pi))\n",
    "Draw(gfu);"
   ]
  },
  {
   "cell_type": "code",
   "execution_count": null,
   "id": "c58c8b43",
   "metadata": {},
   "outputs": [],
   "source": []
  }
 ],
 "metadata": {
  "kernelspec": {
   "display_name": "Python 3 (ipykernel)",
   "language": "python",
   "name": "python3"
  },
  "language_info": {
   "codemirror_mode": {
    "name": "ipython",
    "version": 3
   },
   "file_extension": ".py",
   "mimetype": "text/x-python",
   "name": "python",
   "nbconvert_exporter": "python",
   "pygments_lexer": "ipython3",
   "version": "3.11.5"
  }
 },
 "nbformat": 4,
 "nbformat_minor": 5
}
