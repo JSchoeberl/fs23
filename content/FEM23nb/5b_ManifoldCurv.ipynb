{
 "cells": [
  {
   "cell_type": "markdown",
   "id": "2ace1fa2",
   "metadata": {},
   "source": [
    "# Curvatur computation from metric tensor on parameter domain\n",
    "\n",
    "* Evan S. Gawlik: High-order approximation of Gaussian Curvature with Regge finite elements, SINUM '20\n",
    "* Yakov Berchenko-Kogan and Evan S. Gawlik: Finite element approximation of the Levi-Civita connection and its curvature in two dimensions, arXiv 2111.02512\n",
    "* J. Gopalakrishnan, M. Neunteufel, JS, M. Wardetzky: Analysis of curvature approximation via covariant curl and incompatibility for Regge metrics, to appear in SMAI-JCM, (arXiv 2206.09343)"
   ]
  },
  {
   "cell_type": "code",
   "execution_count": null,
   "id": "8ba7f527",
   "metadata": {},
   "outputs": [],
   "source": [
    "from ngsolve import *\n",
    "from ngsolve.webgui import Draw\n",
    "from netgen.occ import *\n",
    "\n",
    "order = 3"
   ]
  },
  {
   "cell_type": "markdown",
   "id": "7af6da4f",
   "metadata": {},
   "source": [
    "Parameter domain in $\\mathbb{R}^2$:"
   ]
  },
  {
   "cell_type": "code",
   "execution_count": null,
   "id": "ebdb4b33",
   "metadata": {},
   "outputs": [],
   "source": [
    "shape = Circle( (0,0), r=1).Face()\n",
    "mesh = Mesh(OCCGeometry(shape,dim=2).GenerateMesh(maxh=0.1))\n",
    "mesh.Curve(12)\n",
    "Draw(mesh);"
   ]
  },
  {
   "cell_type": "markdown",
   "id": "4d9d0516",
   "metadata": {},
   "source": [
    "Parameterization of semi-sphere:"
   ]
  },
  {
   "cell_type": "code",
   "execution_count": null,
   "id": "7fe1a3cc",
   "metadata": {},
   "outputs": [],
   "source": [
    "gfphi = GridFunction(H1(mesh,order=order+1)**3)\n",
    "\n",
    "r = sqrt(x**2+y**2)\n",
    "phi = atan2(y,x)\n",
    "\n",
    "gfphi.Interpolate( (cos(phi)*sin(r*pi/2)-x,sin(phi)*sin(r*pi/2)-y,cos(r*pi/2)))\n",
    "\n",
    "gfphixy = GridFunction(H1(mesh,order=order)**2)\n",
    "gfphixy.Set ( gfphi[0:2] )\n",
    "mesh.SetDeformation(gfphixy)\n",
    "Draw (gfphi[2], mesh, deformation=True)\n",
    "mesh.UnsetDeformation()"
   ]
  },
  {
   "cell_type": "markdown",
   "id": "90157867",
   "metadata": {},
   "source": [
    "Interpolating metric tensor\n",
    "\n",
    "$$\n",
    "C = \\nabla \\varphi^T \\nabla \\varphi\n",
    "$$\n",
    "\n",
    "into the Regge finite element space (symmetric, tt-continuous):"
   ]
  },
  {
   "cell_type": "code",
   "execution_count": null,
   "id": "fe0dfffe",
   "metadata": {},
   "outputs": [],
   "source": [
    "F = CF( (1,0, 0,1, 0,0),dims=(3,2)) + Grad(gfphi)\n",
    "C = F.trans*F\n",
    "\n",
    "fesCC = HCurlCurl(mesh, order=order) \n",
    "gfC = GridFunction(fesCC)\n",
    "gfC.Set(C, dual=True, bonus_intorder=4)   "
   ]
  },
  {
   "cell_type": "code",
   "execution_count": null,
   "id": "03974805",
   "metadata": {},
   "outputs": [],
   "source": [
    "fesR = H1(mesh, order=order+1)\n",
    "fR = LinearForm(fesR)\n",
    "u,v = fesR.TnT()\n",
    "\n",
    "       \n",
    "# vertex - contributions = angle deficit\n",
    "vertextang  = specialcf.VertexTangentialVectors(2)\n",
    "vt1 = vertextang[:,0]\n",
    "vt2 = vertextang[:,1]\n",
    "\n",
    "fR += v*acos(gfC[vt1,vt2]/sqrt(gfC[vt1,vt1]*gfC[vt2,vt2]))*dx(element_vb=BBND)\n",
    "fR += -v*acos((vt1*vt2)/sqrt((vt1*vt1)*(vt2*vt2)))*dx(element_vb=BBND)\n",
    "\n",
    "# edge part - jump of geodesic curvature\n",
    "t  = specialcf.tangential(2,consistent=True)\n",
    "n = specialcf.normal(2)  \n",
    "edgecurve = specialcf.EdgeCurvature(2)\n",
    "Gamma_tt = gfC.Operator(\"christoffel2\")[t,t,:]\n",
    "fR += v*sqrt(Det(gfC))/gfC[t,t]*n*(Gamma_tt+edgecurve)*dx(element_vb=BND, bonus_intorder=4)\n",
    "\n",
    "# volume term: scalar curvature = component of Riemann tensor\n",
    "Riemann = gfC.Operator(\"Riemann\")\n",
    "fR += 1/sqrt(Det(gfC))*Riemann[0,1,0,1] * v * dx(bonus_intorder=4)\n",
    "\n",
    "fR.Assemble()\n",
    "\n",
    "gfR = GridFunction(fesR)\n",
    "mass = BilinearForm(sqrt(Det(gfC))*u*v*dx(bonus_intorder=4)).Assemble().mat\n",
    "gfR.vec.data = mass.Inverse() * fR.vec\n",
    "Draw (gfR, min=0.99, max=1.01);"
   ]
  },
  {
   "cell_type": "code",
   "execution_count": null,
   "id": "e187c89a",
   "metadata": {},
   "outputs": [],
   "source": [
    "print (\"total curvature on half-sphere:\", Integrate (gfR, mesh) / pi)"
   ]
  },
  {
   "cell_type": "markdown",
   "id": "cc7f400d",
   "metadata": {},
   "source": [
    "Goal: solving **Einstein equations**"
   ]
  },
  {
   "cell_type": "code",
   "execution_count": null,
   "id": "a3fd6bc3",
   "metadata": {},
   "outputs": [],
   "source": []
  }
 ],
 "metadata": {
  "kernelspec": {
   "display_name": "Python 3 (ipykernel)",
   "language": "python",
   "name": "python3"
  },
  "language_info": {
   "codemirror_mode": {
    "name": "ipython",
    "version": 3
   },
   "file_extension": ".py",
   "mimetype": "text/x-python",
   "name": "python",
   "nbconvert_exporter": "python",
   "pygments_lexer": "ipython3",
   "version": "3.11.5"
  }
 },
 "nbformat": 4,
 "nbformat_minor": 5
}
